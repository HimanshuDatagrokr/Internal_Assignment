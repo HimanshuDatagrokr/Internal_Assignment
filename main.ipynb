{
 "cells": [
  {
   "cell_type": "code",
   "execution_count": 3,
   "metadata": {},
   "outputs": [],
   "source": [
    "import pandas as pd\n",
    "import json\n",
    "from pandas import json_normalize"
   ]
  },
  {
   "cell_type": "code",
   "execution_count": 4,
   "metadata": {},
   "outputs": [],
   "source": [
    "json_path = 'first.json'\n",
    "with  open(json_path,'r') as file:\n",
    "    data = json.load(file)\n"
   ]
  },
  {
   "cell_type": "code",
   "execution_count": 5,
   "metadata": {},
   "outputs": [],
   "source": [
    "#creating dataframe for team players\n",
    "\n",
    "players_data = []\n",
    "for team, players in data[\"info\"][\"players\"].items():\n",
    "    for player in players:\n",
    "        player_registry_id = data[\"info\"][\"registry\"][\"people\"].get(player, None)\n",
    "        players_data.append({\"player\": player, \"team\": team, \"registry_id\": player_registry_id})\n",
    "\n",
    "players_df = pd.DataFrame(players_data)\n",
    "\n"
   ]
  },
  {
   "cell_type": "code",
   "execution_count": 6,
   "metadata": {},
   "outputs": [],
   "source": [
    "meta_normalized = json_normalize(data['meta'])\n",
    "innings_normalized = json_normalize(data['innings'])\n",
    "info_normalized = json_normalize(data['info'])"
   ]
  },
  {
   "cell_type": "code",
   "execution_count": 7,
   "metadata": {},
   "outputs": [],
   "source": [
    "info_df = pd.DataFrame.from_dict(info_normalized)"
   ]
  },
  {
   "cell_type": "code",
   "execution_count": 8,
   "metadata": {},
   "outputs": [
    {
     "name": "stdout",
     "output_type": "stream",
     "text": [
      "   balls_per_over       city         dates gender match_type  overs  \\\n",
      "0               6  Bangalore  [2008-04-18]   male        T20     20   \n",
      "\n",
      "  player_of_match   season team_type  \\\n",
      "0   [BB McCullum]  2007/08      club   \n",
      "\n",
      "                                               teams  ...  \\\n",
      "0  [Royal Challengers Bangalore, Kolkata Knight R...  ...   \n",
      "\n",
      "  registry.people.RT Ponting  registry.people.SB Joshi  \\\n",
      "0                   7d415ea5                  670709ec   \n",
      "\n",
      "  registry.people.SC Ganguly registry.people.V Kohli  \\\n",
      "0                   725529bc                ba607b88   \n",
      "\n",
      "  registry.people.VN Kulkarni registry.people.W Jaffer  \\\n",
      "0                    0b126008                 619aa81f   \n",
      "\n",
      "  registry.people.WP Saha  registry.people.Z Khan toss.decision  \\\n",
      "0                fe11caa6                91a4a398         field   \n",
      "\n",
      "                   toss.winner  \n",
      "0  Royal Challengers Bangalore  \n",
      "\n",
      "[1 rows x 50 columns]\n"
     ]
    }
   ],
   "source": [
    "print(info_df)"
   ]
  },
  {
   "cell_type": "code",
   "execution_count": 9,
   "metadata": {},
   "outputs": [],
   "source": [
    "# dropping use less data\n",
    "columns_to_remove = [\n",
    "    'players.Kolkata Knight Riders',\n",
    "    'players.Royal Challengers Bangalore',\n",
    "    'registry.people',\n",
    "    'balls_per_over',\n",
    "    'gender','season',\n",
    "    'overs','event.name','match_type'\n",
    "]\n",
    "\n",
    "# Drop the specified columns\n",
    "info_df = info_df.drop(columns=columns_to_remove, errors='ignore')\n"
   ]
  },
  {
   "cell_type": "code",
   "execution_count": 10,
   "metadata": {},
   "outputs": [
    {
     "name": "stdout",
     "output_type": "stream",
     "text": [
      "        city         dates player_of_match team_type  \\\n",
      "0  Bangalore  [2008-04-18]   [BB McCullum]      club   \n",
      "\n",
      "                                               teams                  venue  \\\n",
      "0  [Royal Challengers Bangalore, Kolkata Knight R...  M Chinnaswamy Stadium   \n",
      "\n",
      "   event.match_number officials.match_referees officials.reserve_umpires  \\\n",
      "0                   1              [J Srinath]             [VN Kulkarni]   \n",
      "\n",
      "  officials.tv_umpires         officials.umpires  outcome.by.runs  \\\n",
      "0          [AM Saheba]  [Asad Rauf, RE Koertzen]              140   \n",
      "\n",
      "          outcome.winner toss.decision                  toss.winner  \n",
      "0  Kolkata Knight Riders         field  Royal Challengers Bangalore  \n"
     ]
    }
   ],
   "source": [
    "# removing all the attributes starting with registry \n",
    "columns_to_remove = [col for col in info_df.columns if col.startswith('registry')]\n",
    "info_df_data= info_df.drop(columns=columns_to_remove)\n",
    "print(info_df_data)"
   ]
  },
  {
   "cell_type": "code",
   "execution_count": 11,
   "metadata": {},
   "outputs": [
    {
     "name": "stdout",
     "output_type": "stream",
     "text": [
      "             player                         team registry_id\n",
      "0        SC Ganguly        Kolkata Knight Riders    725529bc\n",
      "1       BB McCullum        Kolkata Knight Riders    b8a55852\n",
      "2        RT Ponting        Kolkata Knight Riders    7d415ea5\n",
      "3         DJ Hussey        Kolkata Knight Riders    fd835ab3\n",
      "4   Mohammad Hafeez        Kolkata Knight Riders    9ab63e7b\n",
      "5         LR Shukla        Kolkata Knight Riders    b1451597\n",
      "6           WP Saha        Kolkata Knight Riders    fe11caa6\n",
      "7        AB Agarkar        Kolkata Knight Riders    fa463154\n",
      "8          AB Dinda        Kolkata Knight Riders    66b30f71\n",
      "9          M Kartik        Kolkata Knight Riders    abfeb126\n",
      "10         I Sharma        Kolkata Knight Riders    5bb1a1c4\n",
      "11         R Dravid  Royal Challengers Bangalore    0184dc35\n",
      "12         W Jaffer  Royal Challengers Bangalore    619aa81f\n",
      "13          V Kohli  Royal Challengers Bangalore    ba607b88\n",
      "14        JH Kallis  Royal Challengers Bangalore    86dc8f2e\n",
      "15         CL White  Royal Challengers Bangalore    d0513f63\n",
      "16       MV Boucher  Royal Challengers Bangalore    f3cb53a1\n",
      "17          B Akhil  Royal Challengers Bangalore    af7dadf7\n",
      "18        AA Noffke  Royal Challengers Bangalore    b69e69ed\n",
      "19          P Kumar  Royal Challengers Bangalore    e938e1bc\n",
      "20           Z Khan  Royal Challengers Bangalore    91a4a398\n",
      "21         SB Joshi  Royal Challengers Bangalore    670709ec\n"
     ]
    },
    {
     "data": {
      "text/html": [
       "<div>\n",
       "<style scoped>\n",
       "    .dataframe tbody tr th:only-of-type {\n",
       "        vertical-align: middle;\n",
       "    }\n",
       "\n",
       "    .dataframe tbody tr th {\n",
       "        vertical-align: top;\n",
       "    }\n",
       "\n",
       "    .dataframe thead th {\n",
       "        text-align: right;\n",
       "    }\n",
       "</style>\n",
       "<table border=\"1\" class=\"dataframe\">\n",
       "  <thead>\n",
       "    <tr style=\"text-align: right;\">\n",
       "      <th></th>\n",
       "      <th>player</th>\n",
       "      <th>team</th>\n",
       "      <th>registry_id</th>\n",
       "    </tr>\n",
       "  </thead>\n",
       "  <tbody>\n",
       "    <tr>\n",
       "      <th>0</th>\n",
       "      <td>SC Ganguly</td>\n",
       "      <td>Kolkata Knight Riders</td>\n",
       "      <td>725529bc</td>\n",
       "    </tr>\n",
       "    <tr>\n",
       "      <th>1</th>\n",
       "      <td>BB McCullum</td>\n",
       "      <td>Kolkata Knight Riders</td>\n",
       "      <td>b8a55852</td>\n",
       "    </tr>\n",
       "    <tr>\n",
       "      <th>2</th>\n",
       "      <td>RT Ponting</td>\n",
       "      <td>Kolkata Knight Riders</td>\n",
       "      <td>7d415ea5</td>\n",
       "    </tr>\n",
       "    <tr>\n",
       "      <th>3</th>\n",
       "      <td>DJ Hussey</td>\n",
       "      <td>Kolkata Knight Riders</td>\n",
       "      <td>fd835ab3</td>\n",
       "    </tr>\n",
       "    <tr>\n",
       "      <th>4</th>\n",
       "      <td>Mohammad Hafeez</td>\n",
       "      <td>Kolkata Knight Riders</td>\n",
       "      <td>9ab63e7b</td>\n",
       "    </tr>\n",
       "  </tbody>\n",
       "</table>\n",
       "</div>"
      ],
      "text/plain": [
       "            player                   team registry_id\n",
       "0       SC Ganguly  Kolkata Knight Riders    725529bc\n",
       "1      BB McCullum  Kolkata Knight Riders    b8a55852\n",
       "2       RT Ponting  Kolkata Knight Riders    7d415ea5\n",
       "3        DJ Hussey  Kolkata Knight Riders    fd835ab3\n",
       "4  Mohammad Hafeez  Kolkata Knight Riders    9ab63e7b"
      ]
     },
     "execution_count": 11,
     "metadata": {},
     "output_type": "execute_result"
    }
   ],
   "source": [
    "print(players_df)\n",
    "players_df.head()"
   ]
  },
  {
   "cell_type": "code",
   "execution_count": 12,
   "metadata": {},
   "outputs": [],
   "source": [
    "info_df_data = info_df_data.map(lambda x: ', '.join(map(str, x)) if isinstance(x, list) else x) \n",
    "# in this going through all the dataframe elements then we check whether value is  "
   ]
  },
  {
   "cell_type": "code",
   "execution_count": 13,
   "metadata": {},
   "outputs": [
    {
     "data": {
      "text/html": [
       "<div>\n",
       "<style scoped>\n",
       "    .dataframe tbody tr th:only-of-type {\n",
       "        vertical-align: middle;\n",
       "    }\n",
       "\n",
       "    .dataframe tbody tr th {\n",
       "        vertical-align: top;\n",
       "    }\n",
       "\n",
       "    .dataframe thead th {\n",
       "        text-align: right;\n",
       "    }\n",
       "</style>\n",
       "<table border=\"1\" class=\"dataframe\">\n",
       "  <thead>\n",
       "    <tr style=\"text-align: right;\">\n",
       "      <th></th>\n",
       "      <th>city</th>\n",
       "      <th>dates</th>\n",
       "      <th>player_of_match</th>\n",
       "      <th>team_type</th>\n",
       "      <th>teams</th>\n",
       "      <th>venue</th>\n",
       "      <th>event.match_number</th>\n",
       "      <th>officials.match_referees</th>\n",
       "      <th>officials.reserve_umpires</th>\n",
       "      <th>officials.tv_umpires</th>\n",
       "      <th>officials.umpires</th>\n",
       "      <th>outcome.by.runs</th>\n",
       "      <th>outcome.winner</th>\n",
       "      <th>toss.decision</th>\n",
       "      <th>toss.winner</th>\n",
       "    </tr>\n",
       "  </thead>\n",
       "  <tbody>\n",
       "    <tr>\n",
       "      <th>0</th>\n",
       "      <td>Bangalore</td>\n",
       "      <td>2008-04-18</td>\n",
       "      <td>BB McCullum</td>\n",
       "      <td>club</td>\n",
       "      <td>Royal Challengers Bangalore, Kolkata Knight Ri...</td>\n",
       "      <td>M Chinnaswamy Stadium</td>\n",
       "      <td>1</td>\n",
       "      <td>J Srinath</td>\n",
       "      <td>VN Kulkarni</td>\n",
       "      <td>AM Saheba</td>\n",
       "      <td>Asad Rauf, RE Koertzen</td>\n",
       "      <td>140</td>\n",
       "      <td>Kolkata Knight Riders</td>\n",
       "      <td>field</td>\n",
       "      <td>Royal Challengers Bangalore</td>\n",
       "    </tr>\n",
       "  </tbody>\n",
       "</table>\n",
       "</div>"
      ],
      "text/plain": [
       "        city       dates player_of_match team_type  \\\n",
       "0  Bangalore  2008-04-18     BB McCullum      club   \n",
       "\n",
       "                                               teams                  venue  \\\n",
       "0  Royal Challengers Bangalore, Kolkata Knight Ri...  M Chinnaswamy Stadium   \n",
       "\n",
       "   event.match_number officials.match_referees officials.reserve_umpires  \\\n",
       "0                   1                J Srinath               VN Kulkarni   \n",
       "\n",
       "  officials.tv_umpires       officials.umpires  outcome.by.runs  \\\n",
       "0            AM Saheba  Asad Rauf, RE Koertzen              140   \n",
       "\n",
       "          outcome.winner toss.decision                  toss.winner  \n",
       "0  Kolkata Knight Riders         field  Royal Challengers Bangalore  "
      ]
     },
     "execution_count": 13,
     "metadata": {},
     "output_type": "execute_result"
    }
   ],
   "source": [
    "info_df_data.head()"
   ]
  },
  {
   "cell_type": "markdown",
   "metadata": {},
   "source": [
    " DATAFRAME FOR META"
   ]
  },
  {
   "cell_type": "code",
   "execution_count": 14,
   "metadata": {},
   "outputs": [
    {
     "data": {
      "text/html": [
       "<div>\n",
       "<style scoped>\n",
       "    .dataframe tbody tr th:only-of-type {\n",
       "        vertical-align: middle;\n",
       "    }\n",
       "\n",
       "    .dataframe tbody tr th {\n",
       "        vertical-align: top;\n",
       "    }\n",
       "\n",
       "    .dataframe thead th {\n",
       "        text-align: right;\n",
       "    }\n",
       "</style>\n",
       "<table border=\"1\" class=\"dataframe\">\n",
       "  <thead>\n",
       "    <tr style=\"text-align: right;\">\n",
       "      <th></th>\n",
       "      <th>data_version</th>\n",
       "      <th>created</th>\n",
       "      <th>revision</th>\n",
       "    </tr>\n",
       "  </thead>\n",
       "  <tbody>\n",
       "    <tr>\n",
       "      <th>0</th>\n",
       "      <td>1.0.0</td>\n",
       "      <td>2011-05-06</td>\n",
       "      <td>2</td>\n",
       "    </tr>\n",
       "  </tbody>\n",
       "</table>\n",
       "</div>"
      ],
      "text/plain": [
       "  data_version     created  revision\n",
       "0        1.0.0  2011-05-06         2"
      ]
     },
     "execution_count": 14,
     "metadata": {},
     "output_type": "execute_result"
    }
   ],
   "source": [
    "meta_df = pd.DataFrame.from_dict(meta_normalized)\n",
    "meta_df.head()"
   ]
  },
  {
   "cell_type": "markdown",
   "metadata": {},
   "source": [
    "DATA FRAME FOR INNINGS"
   ]
  },
  {
   "cell_type": "code",
   "execution_count": 26,
   "metadata": {},
   "outputs": [
    {
     "name": "stdout",
     "output_type": "stream",
     "text": [
      "                            team  over       batter     bowler  non_striker  \\\n",
      "0          Kolkata Knight Riders     0   SC Ganguly    P Kumar  BB McCullum   \n",
      "1          Kolkata Knight Riders     0  BB McCullum    P Kumar   SC Ganguly   \n",
      "2          Kolkata Knight Riders     0  BB McCullum    P Kumar   SC Ganguly   \n",
      "3          Kolkata Knight Riders     0  BB McCullum    P Kumar   SC Ganguly   \n",
      "4          Kolkata Knight Riders     0  BB McCullum    P Kumar   SC Ganguly   \n",
      "..                           ...   ...          ...        ...          ...   \n",
      "220  Royal Challengers Bangalore    14      P Kumar   I Sharma     SB Joshi   \n",
      "221  Royal Challengers Bangalore    14     SB Joshi   I Sharma      P Kumar   \n",
      "222  Royal Challengers Bangalore    14      P Kumar   I Sharma     SB Joshi   \n",
      "223  Royal Challengers Bangalore    15     SB Joshi  LR Shukla      P Kumar   \n",
      "224  Royal Challengers Bangalore    15     SB Joshi  LR Shukla      P Kumar   \n",
      "\n",
      "     batter_runs  extras_runs  total_runs  wicket  \n",
      "0              0            1           1     NaN  \n",
      "1              0            0           0     NaN  \n",
      "2              0            1           1     NaN  \n",
      "3              0            0           0     NaN  \n",
      "4              0            0           0     NaN  \n",
      "..           ...          ...         ...     ...  \n",
      "220            0            1           1     NaN  \n",
      "221            1            0           1     NaN  \n",
      "222            0            0           0     NaN  \n",
      "223            0            1           1     NaN  \n",
      "224            0            0           0     1.0  \n",
      "\n",
      "[225 rows x 9 columns]\n"
     ]
    }
   ],
   "source": [
    "def extract_delivery_info(inning):\n",
    "    inning_data = []\n",
    "    for over_info in inning[\"overs\"]:\n",
    "        for delivery_info in over_info[\"deliveries\"]:\n",
    "            runs_info = delivery_info[\"runs\"]\n",
    "            wickets_info = delivery_info.get(\"wickets\", None)\n",
    "            wicket = 1 if wickets_info else None\n",
    "\n",
    "            data = {\n",
    "                \"team\": inning[\"team\"],\n",
    "                \"over\": over_info[\"over\"],\n",
    "                \"batter\": delivery_info[\"batter\"],\n",
    "                \"bowler\": delivery_info[\"bowler\"],\n",
    "                \"non_striker\": delivery_info[\"non_striker\"],\n",
    "                \"batter_runs\": runs_info[\"batter\"],\n",
    "                \"extras_runs\": runs_info[\"extras\"],\n",
    "                \"total_runs\": runs_info[\"total\"],\n",
    "                \"wicket\": wicket,\n",
    "            }\n",
    "            inning_data.append(data)\n",
    "    return inning_data\n",
    "\n",
    "# Flatten the data and create a DataFrame\n",
    "match_data = []\n",
    "for inning_data in data[\"innings\"]:\n",
    "    match_data.extend(extract_delivery_info(inning_data))\n",
    "\n",
    "df = pd.DataFrame(match_data)\n",
    "\n",
    "# Display the DataFrame\n",
    "print()"
   ]
  },
  {
   "cell_type": "code",
   "execution_count": 28,
   "metadata": {},
   "outputs": [
    {
     "data": {
      "text/html": [
       "<div>\n",
       "<style scoped>\n",
       "    .dataframe tbody tr th:only-of-type {\n",
       "        vertical-align: middle;\n",
       "    }\n",
       "\n",
       "    .dataframe tbody tr th {\n",
       "        vertical-align: top;\n",
       "    }\n",
       "\n",
       "    .dataframe thead th {\n",
       "        text-align: right;\n",
       "    }\n",
       "</style>\n",
       "<table border=\"1\" class=\"dataframe\">\n",
       "  <thead>\n",
       "    <tr style=\"text-align: right;\">\n",
       "      <th></th>\n",
       "      <th>team</th>\n",
       "      <th>over</th>\n",
       "      <th>batter</th>\n",
       "      <th>bowler</th>\n",
       "      <th>non_striker</th>\n",
       "      <th>batter_runs</th>\n",
       "      <th>extras_runs</th>\n",
       "      <th>total_runs</th>\n",
       "      <th>wicket</th>\n",
       "    </tr>\n",
       "  </thead>\n",
       "  <tbody>\n",
       "    <tr>\n",
       "      <th>0</th>\n",
       "      <td>Kolkata Knight Riders</td>\n",
       "      <td>0</td>\n",
       "      <td>SC Ganguly</td>\n",
       "      <td>P Kumar</td>\n",
       "      <td>BB McCullum</td>\n",
       "      <td>0</td>\n",
       "      <td>1</td>\n",
       "      <td>1</td>\n",
       "      <td>NaN</td>\n",
       "    </tr>\n",
       "  </tbody>\n",
       "</table>\n",
       "</div>"
      ],
      "text/plain": [
       "                    team  over      batter   bowler  non_striker  batter_runs  \\\n",
       "0  Kolkata Knight Riders     0  SC Ganguly  P Kumar  BB McCullum            0   \n",
       "\n",
       "   extras_runs  total_runs  wicket  \n",
       "0            1           1     NaN  "
      ]
     },
     "execution_count": 28,
     "metadata": {},
     "output_type": "execute_result"
    }
   ],
   "source": [
    "df.head(1)"
   ]
  },
  {
   "cell_type": "code",
   "execution_count": null,
   "metadata": {},
   "outputs": [],
   "source": []
  }
 ],
 "metadata": {
  "kernelspec": {
   "display_name": "Python 3",
   "language": "python",
   "name": "python3"
  },
  "language_info": {
   "codemirror_mode": {
    "name": "ipython",
    "version": 3
   },
   "file_extension": ".py",
   "mimetype": "text/x-python",
   "name": "python",
   "nbconvert_exporter": "python",
   "pygments_lexer": "ipython3",
   "version": "3.12.0"
  }
 },
 "nbformat": 4,
 "nbformat_minor": 2
}
